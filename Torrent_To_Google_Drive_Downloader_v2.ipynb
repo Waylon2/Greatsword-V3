{
  "nbformat": 4,
  "nbformat_minor": 0,
  "metadata": {
    "colab": {
      "name": "Torrent To Google Drive Downloader v2",
      "provenance": [],
      "include_colab_link": true
    },
    "kernelspec": {
      "name": "python3",
      "display_name": "Python 3"
    }
  },
  "cells": [
    {
      "cell_type": "markdown",
      "metadata": {
        "id": "view-in-github",
        "colab_type": "text"
      },
      "source": [
        "<a href=\"https://colab.research.google.com/github/Waylon2/Greatsword-V3/blob/main/Torrent_To_Google_Drive_Downloader_v2.ipynb\" target=\"_parent\"><img src=\"https://colab.research.google.com/assets/colab-badge.svg\" alt=\"Open In Colab\"/></a>"
      ]
    },
    {
      "cell_type": "markdown",
      "metadata": {
        "id": "aQuWDmfm9YOi"
      },
      "source": [
        "# Torrent To Google Drive Downloader v2"
      ]
    },
    {
      "cell_type": "markdown",
      "metadata": {
        "id": "Uf90U73y9YOj"
      },
      "source": [
        "### Mount Google Drive\n",
        "To stream files we need to mount Google Drive."
      ]
    },
    {
      "cell_type": "code",
      "metadata": {
        "id": "oWM9l2fvtuvO",
        "outputId": "60a4ac88-7111-4b0b-9708-745273a3c03c",
        "colab": {
          "base_uri": "https://localhost:8080/"
        }
      },
      "source": [
        "from google.colab import drive\n",
        "drive.mount('/content/drive')"
      ],
      "execution_count": 2,
      "outputs": [
        {
          "output_type": "stream",
          "name": "stdout",
          "text": [
            "Mounted at /content/drive\n"
          ]
        }
      ]
    },
    {
      "cell_type": "markdown",
      "metadata": {
        "id": "FexiyATtNwTG"
      },
      "source": [
        "###Dependency\n",
        "https://www.libtorrent.org/"
      ]
    },
    {
      "cell_type": "code",
      "metadata": {
        "id": "m6hF0emftx4h",
        "outputId": "ce4eddb1-ee4f-4676-da08-4d2ec4642aa5",
        "colab": {
          "base_uri": "https://localhost:8080/"
        }
      },
      "source": [
        "!apt install python3-libtorrent"
      ],
      "execution_count": 3,
      "outputs": [
        {
          "output_type": "stream",
          "name": "stdout",
          "text": [
            "Reading package lists... Done\n",
            "Building dependency tree... Done\n",
            "Reading state information... Done\n",
            "The following additional packages will be installed:\n",
            "  libtorrent-rasterbar2.0\n",
            "The following NEW packages will be installed:\n",
            "  libtorrent-rasterbar2.0 python3-libtorrent\n",
            "0 upgraded, 2 newly installed, 0 to remove and 49 not upgraded.\n",
            "Need to get 2,098 kB of archives.\n",
            "After this operation, 7,907 kB of additional disk space will be used.\n",
            "Get:1 http://archive.ubuntu.com/ubuntu jammy/universe amd64 libtorrent-rasterbar2.0 amd64 2.0.5-5 [1,501 kB]\n",
            "Get:2 http://archive.ubuntu.com/ubuntu jammy/universe amd64 python3-libtorrent amd64 2.0.5-5 [597 kB]\n",
            "Fetched 2,098 kB in 0s (7,545 kB/s)\n",
            "Selecting previously unselected package libtorrent-rasterbar2.0:amd64.\n",
            "(Reading database ... 124565 files and directories currently installed.)\n",
            "Preparing to unpack .../libtorrent-rasterbar2.0_2.0.5-5_amd64.deb ...\n",
            "Unpacking libtorrent-rasterbar2.0:amd64 (2.0.5-5) ...\n",
            "Selecting previously unselected package python3-libtorrent.\n",
            "Preparing to unpack .../python3-libtorrent_2.0.5-5_amd64.deb ...\n",
            "Unpacking python3-libtorrent (2.0.5-5) ...\n",
            "Setting up libtorrent-rasterbar2.0:amd64 (2.0.5-5) ...\n",
            "Setting up python3-libtorrent (2.0.5-5) ...\n",
            "Processing triggers for libc-bin (2.35-0ubuntu3.4) ...\n",
            "/sbin/ldconfig.real: /usr/local/lib/libtbbbind.so.3 is not a symbolic link\n",
            "\n",
            "/sbin/ldconfig.real: /usr/local/lib/libhwloc.so.15 is not a symbolic link\n",
            "\n",
            "/sbin/ldconfig.real: /usr/local/lib/libtbbbind_2_0.so.3 is not a symbolic link\n",
            "\n",
            "/sbin/ldconfig.real: /usr/local/lib/libur_adapter_opencl.so.0 is not a symbolic link\n",
            "\n",
            "/sbin/ldconfig.real: /usr/local/lib/libtbb.so.12 is not a symbolic link\n",
            "\n",
            "/sbin/ldconfig.real: /usr/local/lib/libumf.so.0 is not a symbolic link\n",
            "\n",
            "/sbin/ldconfig.real: /usr/local/lib/libtcm_debug.so.1 is not a symbolic link\n",
            "\n",
            "/sbin/ldconfig.real: /usr/local/lib/libtcm.so.1 is not a symbolic link\n",
            "\n",
            "/sbin/ldconfig.real: /usr/local/lib/libtbbbind_2_5.so.3 is not a symbolic link\n",
            "\n",
            "/sbin/ldconfig.real: /usr/local/lib/libtbbmalloc_proxy.so.2 is not a symbolic link\n",
            "\n",
            "/sbin/ldconfig.real: /usr/local/lib/libtbbmalloc.so.2 is not a symbolic link\n",
            "\n",
            "/sbin/ldconfig.real: /usr/local/lib/libur_adapter_level_zero.so.0 is not a symbolic link\n",
            "\n",
            "/sbin/ldconfig.real: /usr/local/lib/libur_loader.so.0 is not a symbolic link\n",
            "\n"
          ]
        }
      ]
    },
    {
      "cell_type": "markdown",
      "metadata": {
        "id": "tqKcWHZcYRIA"
      },
      "source": [
        "### Code to download torrent\n",
        "Variable **link** stores the link string."
      ]
    },
    {
      "cell_type": "code",
      "metadata": {
        "outputId": "26d4352b-3767-475c-d1e6-f60dc1924403",
        "id": "b09BxnANO2ep",
        "colab": {
          "base_uri": "https://localhost:8080/",
          "height": 697
        }
      },
      "source": [
        "import libtorrent as lt\n",
        "import time\n",
        "import datetime\n",
        "\n",
        "ses = lt.session()\n",
        "ses.listen_on(6881, 6891)\n",
        "params = {\n",
        "    'save_path': '/content/drive/My Drive/Torrent/',\n",
        "    'storage_mode': lt.storage_mode_t(2),\n",
        "    'paused': False,\n",
        "    'auto_managed': True,\n",
        "    'duplicate_is_error': True}\n",
        "link = \"magnet:?xt=urn:btih:412006930274814137D990B3F38C731CAFDCA777&dn=Ace+Attorney+%282012%29+%5B1080p%5D+%5BYTS.MX%5D&tr=udp%3A%2F%2Ftracker.opentrackr.org%3A1337%2Fannounce&tr=udp%3A%2F%2Fopen.tracker.cl%3A1337%2Fannounce&tr=udp%3A%2F%2Fp4p.arenabg.com%3A1337%2Fannounce&tr=udp%3A%2F%2Ftracker.torrent.eu.org%3A451%2Fannounce&tr=udp%3A%2F%2Ftracker.dler.org%3A6969%2Fannounce&tr=udp%3A%2F%2Fopen.stealth.si%3A80%2Fannounce&tr=udp%3A%2F%2Fipv4.tracker.harry.lu%3A80%2Fannounce&tr=https%3A%2F%2Fopentracker.i2p.rocks%3A443%2Fannounce\" # PASTE TORRENT/MAGNET LINK HERE\n",
        "print(link)\n",
        "\n",
        "handle = lt.add_magnet_uri(ses, link, params)\n",
        "ses.start_dht()\n",
        "\n",
        "begin = time.time()\n",
        "print(datetime.datetime.now())\n",
        "\n",
        "print ('Downloading Metadata...')\n",
        "while (not handle.has_metadata()):\n",
        "    time.sleep(1)\n",
        "print ('Got Metadata, Starting Torrent Download...')\n",
        "\n",
        "print(\"Starting\", handle.name())\n",
        "\n",
        "while (handle.status().state != lt.torrent_status.seeding):\n",
        "    s = handle.status()\n",
        "    state_str = ['queued', 'checking', 'downloading metadata', \\\n",
        "            'downloading', 'finished', 'seeding', 'allocating']\n",
        "    print ('%.2f%% complete (down: %.1f kb/s up: %.1f kB/s peers: %d) %s ' % \\\n",
        "            (s.progress * 100, s.download_rate / 1000, s.upload_rate / 1000, \\\n",
        "            s.num_peers, state_str[s.state]))\n",
        "    time.sleep(5)\n",
        "\n",
        "end = time.time()\n",
        "print(handle.name(), \"COMPLETE\")\n",
        "\n",
        "print(\"Elapsed Time: \",int((end-begin)//60),\"min :\", int((end-begin)%60), \"sec\")\n",
        "\n",
        "print(datetime.datetime.now())"
      ],
      "execution_count": null,
      "outputs": [
        {
          "output_type": "stream",
          "text": [
            "https://yts.lt/torrent/download/866BDCFA006930A718ADBC21D8CAE1F2C7F9D8B3\n",
            "2019-07-20 07:52:00.049299\n",
            "Downloading Metadata...\n",
            "Got Metadata, Starting Torrent Download...\n",
            "Starting Avengers Infinity War (2018) [BluRay] [1080p] [YTS.AM]\n",
            "5.00% complete (down: 0.0 kb/s up: 0.0 kB/s peers: 0) checking \n",
            "48.99% complete (down: 0.0 kb/s up: 0.0 kB/s peers: 0) checking \n",
            "6.47% complete (down: 0.0 kb/s up: 0.0 kB/s peers: 0) downloading \n",
            "6.47% complete (down: 62.2 kb/s up: 3.6 kB/s peers: 10) downloading \n",
            "6.82% complete (down: 1380.3 kb/s up: 47.2 kB/s peers: 19) downloading \n",
            "7.24% complete (down: 2186.8 kb/s up: 73.3 kB/s peers: 24) downloading \n",
            "8.20% complete (down: 4205.5 kb/s up: 144.2 kB/s peers: 36) downloading \n",
            "9.43% complete (down: 5761.2 kb/s up: 203.1 kB/s peers: 54) downloading \n",
            "11.48% complete (down: 9355.2 kb/s up: 346.3 kB/s peers: 70) downloading \n",
            "14.14% complete (down: 12918.5 kb/s up: 499.6 kB/s peers: 86) downloading \n",
            "17.20% complete (down: 15389.9 kb/s up: 605.0 kB/s peers: 99) downloading \n",
            "19.95% complete (down: 14961.0 kb/s up: 600.1 kB/s peers: 104) downloading \n",
            "23.02% complete (down: 15568.6 kb/s up: 645.8 kB/s peers: 105) downloading \n",
            "26.32% complete (down: 16888.8 kb/s up: 706.1 kB/s peers: 110) downloading \n",
            "29.63% complete (down: 17476.3 kb/s up: 749.3 kB/s peers: 118) downloading \n",
            "33.94% complete (down: 21169.2 kb/s up: 928.1 kB/s peers: 120) downloading \n",
            "38.92% complete (down: 25172.2 kb/s up: 1123.2 kB/s peers: 127) downloading \n",
            "43.26% complete (down: 23766.8 kb/s up: 1072.7 kB/s peers: 128) downloading \n",
            "48.11% complete (down: 24591.4 kb/s up: 1095.9 kB/s peers: 133) downloading \n",
            "52.18% complete (down: 22809.7 kb/s up: 1031.8 kB/s peers: 136) downloading \n",
            "56.85% complete (down: 24655.3 kb/s up: 1109.1 kB/s peers: 136) downloading \n",
            "61.26% complete (down: 24243.5 kb/s up: 1081.6 kB/s peers: 140) downloading \n",
            "65.67% complete (down: 23533.5 kb/s up: 1048.8 kB/s peers: 140) downloading \n",
            "69.51% complete (down: 21413.7 kb/s up: 954.0 kB/s peers: 138) downloading \n",
            "73.66% complete (down: 21588.9 kb/s up: 976.7 kB/s peers: 140) downloading \n",
            "78.68% complete (down: 25918.9 kb/s up: 1157.2 kB/s peers: 139) downloading \n",
            "83.40% complete (down: 25865.4 kb/s up: 1161.6 kB/s peers: 145) downloading \n",
            "88.08% complete (down: 25553.1 kb/s up: 1149.1 kB/s peers: 145) downloading \n",
            "93.28% complete (down: 25877.6 kb/s up: 1161.6 kB/s peers: 146) downloading \n",
            "97.63% complete (down: 24413.3 kb/s up: 1085.9 kB/s peers: 148) downloading \n",
            "99.07% complete (down: 13911.2 kb/s up: 642.6 kB/s peers: 148) downloading \n",
            "99.78% complete (down: 7898.9 kb/s up: 358.1 kB/s peers: 142) downloading \n",
            "Avengers Infinity War (2018) [BluRay] [1080p] [YTS.AM] COMPLETE\n",
            "Elapsed Time:  2 min : 44 sec\n",
            "2019-07-20 07:54:44.267213\n"
          ],
          "name": "stdout"
        }
      ]
    }
  ]
}